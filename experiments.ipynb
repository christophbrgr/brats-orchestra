{
 "cells": [
  {
   "cell_type": "code",
   "execution_count": 17,
   "metadata": {},
   "outputs": [],
   "source": [
    "# exporting and reading json tests\n",
    "import json\n"
   ]
  },
  {
   "cell_type": "code",
   "execution_count": 18,
   "metadata": {},
   "outputs": [],
   "source": [
    "filename = \"directory.json\"\n",
    "data = []"
   ]
  },
  {
   "cell_type": "code",
   "execution_count": 19,
   "metadata": {},
   "outputs": [],
   "source": [
    "with open(filename, 'r') as infile:\n",
    "    data = json.load(infile)"
   ]
  },
  {
   "cell_type": "code",
   "execution_count": 20,
   "metadata": {},
   "outputs": [
    {
     "data": {
      "text/plain": [
       "{'mic-dkfz': {'author': 'Fabian Isensee',\n",
       "  'command': 'python3.6 predict_patient.py',\n",
       "  'fileformat': 'gz-b17-f',\n",
       "  'id': 'fabianisensee/isen2018',\n",
       "  'name': 'mic-dkfz',\n",
       "  'runtime': 'nvidia'},\n",
       " 'scan': {'author': 'Richard McKinley',\n",
       "  'command': 'python DeepSCAN_BRATS.py',\n",
       "  'fileformat': 'b17-t1',\n",
       "  'id': 'mckinleyscan/brats:v1',\n",
       "  'name': 'scan',\n",
       "  'runtime': 'nvidia'},\n",
       " 'xfeng': {'author': 'Xue Feng',\n",
       "  'command': 'python /brats18/docker_run_survival.py',\n",
       "  'fileformat': 'gz-b17-f',\n",
       "  'id': 'xf4j/brats18',\n",
       "  'name': 'xfeng',\n",
       "  'runtime': 'nvidia'}}"
      ]
     },
     "execution_count": 20,
     "metadata": {},
     "output_type": "execute_result"
    }
   ],
   "source": [
    "data"
   ]
  },
  {
   "cell_type": "code",
   "execution_count": 22,
   "metadata": {},
   "outputs": [
    {
     "name": "stdout",
     "output_type": "stream",
     "text": [
      "{'name': 'mic-dkfz', 'author': 'Fabian Isensee', 'fileformat': 'gz-b17-f', 'runtime': 'nvidia', 'id': 'fabianisensee/isen2018', 'command': 'python3.6 predict_patient.py'}\n",
      "{'name': 'scan', 'author': 'Richard McKinley', 'fileformat': 'b17-t1', 'runtime': 'nvidia', 'id': 'mckinleyscan/brats:v1', 'command': 'python DeepSCAN_BRATS.py'}\n",
      "{'name': 'xfeng', 'author': 'Xue Feng', 'fileformat': 'gz-b17-f', 'runtime': 'nvidia', 'id': 'xf4j/brats18', 'command': 'python /brats18/docker_run_survival.py'}\n"
     ]
    }
   ],
   "source": [
    "for id in data.keys():\n",
    "    print(data[id])"
   ]
  },
  {
   "cell_type": "code",
   "execution_count": null,
   "metadata": {},
   "outputs": [],
   "source": []
  },
  {
   "cell_type": "code",
   "execution_count": null,
   "metadata": {},
   "outputs": [],
   "source": []
  }
 ],
 "metadata": {
  "kernelspec": {
   "display_name": "Python 3",
   "language": "python",
   "name": "python3"
  },
  "language_info": {
   "codemirror_mode": {
    "name": "ipython",
    "version": 3
   },
   "file_extension": ".py",
   "mimetype": "text/x-python",
   "name": "python",
   "nbconvert_exporter": "python",
   "pygments_lexer": "ipython3",
   "version": "3.6.4"
  }
 },
 "nbformat": 4,
 "nbformat_minor": 2
}
